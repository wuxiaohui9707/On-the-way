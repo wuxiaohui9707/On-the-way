{
 "cells": [
  {
   "cell_type": "code",
   "execution_count": 18,
   "metadata": {},
   "outputs": [],
   "source": [
    "import os\n",
    "import torch\n",
    "import pytorch_lightning as pl\n",
    "import pandas as pd\n",
    "import torch.nn as nn\n",
    "from torchvision import transforms\n",
    "from torch.utils.data import DataLoader,Dataset\n",
    "from PIL import Image\n",
    "from datasets import load_dataset\n",
    "import torch.nn.functional as F\n",
    "from pytorch_lightning.loggers import TensorBoardLogger\n",
    "from pytorch_lightning.callbacks import ModelCheckpoint"
   ]
  },
  {
   "cell_type": "code",
   "execution_count": 2,
   "metadata": {},
   "outputs": [],
   "source": [
    "class CustomDataset(Dataset):\n",
    "    def __init__(self,data,transform=None):\n",
    "        self.data = data\n",
    "        self.transform=transform\n",
    "\n",
    "    def __len__(self):\n",
    "        return len(self.data)\n",
    "\n",
    "    def __getitem__(self,idx):\n",
    "        item = self.data[idx]\n",
    "        image = item['image']\n",
    "        label = int(item['label'])-1\n",
    "\n",
    "        if self.transform:\n",
    "            image = self.transform(image)\n",
    "\n",
    "        return image,label"
   ]
  },
  {
   "cell_type": "code",
   "execution_count": 13,
   "metadata": {},
   "outputs": [],
   "source": [
    "class ImageClassifier(pl.LightningModule):\n",
    "    def __init__(self, num_classes):\n",
    "        super(ImageClassifier, self).__init__()\n",
    "        self.model = torch.hub.load('pytorch/vision:v0.10.0', 'resnet50', pretrained=True)\n",
    "        num_ftrs = self.model.fc.in_features\n",
    "        self.model.fc = nn.Linear(num_ftrs, num_classes)\n",
    "\n",
    "    def forward(self, x):\n",
    "        return self.model(x)\n",
    "\n",
    "    def training_step(self, batch, batch_idx):\n",
    "        images, labels = batch\n",
    "        outputs = self(images)\n",
    "        loss = F.cross_entropy(outputs, labels)\n",
    "        self.log('train_loss', loss)\n",
    "        return loss\n",
    "\n",
    "    def validation_step(self, batch, batch_idx):\n",
    "        images, labels = batch\n",
    "        outputs = self(images)\n",
    "        loss = F.cross_entropy(outputs, labels)\n",
    "        _, preds = torch.max(outputs,1)\n",
    "        acc = (preds == labels).float().mean()\n",
    "        self.log('val_loss', loss, on_step=True, on_epoch=True, prog_bar=True)\n",
    "        self.log('val_acc', acc, on_step=True, on_epoch=True, prog_bar=True)\n",
    "        return {\"val_loss\":loss,\"val_acc\":acc}\n",
    "\n",
    "#    def on_validation_epoch_end(self):\n",
    "#        avg_loss = torch.stack([x['val_loss'] for x in outputs]).mean()\n",
    "#        avg_acc = torch.stack([x['val_acc']for x in outputs]).mean()\n",
    "        \n",
    "    def test_step(self,batch,batch_idx):\n",
    "        images, labels = batch\n",
    "        outputs = self(images)\n",
    "        loss = F.cross_entropy(outputs, labels)\n",
    "        _, preds = torch.max(outputs,1)\n",
    "        acc = (preds == labels).float().mean()\n",
    "        self.log('test_loss', loss, on_step=True, on_epoch=True, prog_bar=True)\n",
    "        self.log('test_acc', acc, on_step=True, on_epoch=True, prog_bar=True)\n",
    "        return {\"test_loss\":loss,\"test_acc\":acc}\n",
    "\n",
    "    def configure_optimizers(self):\n",
    "        optimizer = torch.optim.Adam(self.parameters(), lr=0.001)\n",
    "        return optimizer"
   ]
  },
  {
   "cell_type": "code",
   "execution_count": 19,
   "metadata": {},
   "outputs": [
    {
     "name": "stderr",
     "output_type": "stream",
     "text": [
      "\n",
      "Downloading builder script: 100%|█████████████████████████████████████████████████| 9.99k/9.99k [00:00<00:00, 9.95MB/s]\n",
      "\n",
      "Downloading readme: 100%|███████████████████████████████████████████████████████████| 30.0/30.0 [00:00<00:00, 30.3kB/s]\n",
      "\n",
      "\u001b[A\n",
      "Downloading data: 100%|███████████████████████████████████████████████████████████| 2.60M/2.60M [00:00<00:00, 23.1MB/s]\n",
      "\n",
      "Downloading data: 100%|███████████████████████████████████████████████████████████| 11.3k/11.3k [00:00<00:00, 11.3MB/s]\n",
      "\n",
      "Downloading data: 100%|███████████████████████████████████████████████████████████| 3.77k/3.77k [00:00<00:00, 3.84MB/s]\n",
      "\n",
      "Downloading data: 100%|███████████████████████████████████████████████████████████████████| 3.82k/3.82k [00:00<?, ?B/s]\n",
      "\n",
      "Generating train split: 100%|███████████████████████████████████████████████| 600/600 [00:00<00:00, 5487.11 examples/s]\n",
      "\n",
      "Generating validation split: 100%|██████████████████████████████████████████| 200/200 [00:00<00:00, 4878.15 examples/s]\n",
      "\n",
      "Generating test split: 100%|████████████████████████████████████████████████| 200/200 [00:00<00:00, 5547.58 examples/s]\n",
      "Using cache found in C:\\Users\\吴晓辉/.cache\\torch\\hub\\pytorch_vision_v0.10.0\n",
      "D:\\Software\\Python\\lib\\site-packages\\torchvision\\models\\_utils.py:208: UserWarning: The parameter 'pretrained' is deprecated since 0.13 and may be removed in the future, please use 'weights' instead.\n",
      "  warnings.warn(\n",
      "D:\\Software\\Python\\lib\\site-packages\\torchvision\\models\\_utils.py:223: UserWarning: Arguments other than a weight enum or `None` for 'weights' are deprecated since 0.13 and may be removed in the future. The current behavior is equivalent to passing `weights=ResNet50_Weights.IMAGENET1K_V1`. You can also use `weights=ResNet50_Weights.DEFAULT` to get the most up-to-date weights.\n",
      "  warnings.warn(msg)\n",
      "GPU available: True (cuda), used: True\n",
      "TPU available: False, using: 0 TPU cores\n",
      "IPU available: False, using: 0 IPUs\n",
      "HPU available: False, using: 0 HPUs\n",
      "Missing logger folder: tb_logs\\Resnet50_batch_size_32_epoch_100\n",
      "LOCAL_RANK: 0 - CUDA_VISIBLE_DEVICES: [0]\n",
      "\n",
      "  | Name  | Type   | Params\n",
      "---------------------------------\n",
      "0 | model | ResNet | 23.5 M\n",
      "---------------------------------\n",
      "23.5 M    Trainable params\n",
      "0         Non-trainable params\n",
      "23.5 M    Total params\n",
      "94.155    Total estimated model params size (MB)\n"
     ]
    },
    {
     "name": "stdout",
     "output_type": "stream",
     "text": [
      "Sanity Checking: 0it [00:00, ?it/s]"
     ]
    },
    {
     "name": "stderr",
     "output_type": "stream",
     "text": [
      "D:\\Software\\Python\\lib\\site-packages\\pytorch_lightning\\trainer\\connectors\\data_connector.py:442: PossibleUserWarning: The dataloader, val_dataloader, does not have many workers which may be a bottleneck. Consider increasing the value of the `num_workers` argument` (try 16 which is the number of cpus on this machine) in the `DataLoader` init to improve performance.\n",
      "  rank_zero_warn(\n"
     ]
    },
    {
     "name": "stdout",
     "output_type": "stream",
     "text": [
      "                                                                                                                       "
     ]
    },
    {
     "name": "stderr",
     "output_type": "stream",
     "text": [
      "D:\\Software\\Python\\lib\\site-packages\\pytorch_lightning\\trainer\\connectors\\data_connector.py:442: PossibleUserWarning: The dataloader, train_dataloader, does not have many workers which may be a bottleneck. Consider increasing the value of the `num_workers` argument` (try 16 which is the number of cpus on this machine) in the `DataLoader` init to improve performance.\n",
      "  rank_zero_warn(\n",
      "D:\\Software\\Python\\lib\\site-packages\\pytorch_lightning\\loops\\fit_loop.py:281: PossibleUserWarning: The number of training batches (19) is smaller than the logging interval Trainer(log_every_n_steps=50). Set a lower value for log_every_n_steps if you want to see logs for the training epoch.\n",
      "  rank_zero_warn(\n"
     ]
    },
    {
     "name": "stdout",
     "output_type": "stream",
     "text": [
      "Epoch 0: 100%|█| 19/19 [00:06<00:00,  3.14it/s, v_num=0, val_loss_step=8.030, val_acc_step=0.250, val_loss_epoch=9.870,"
     ]
    },
    {
     "name": "stderr",
     "output_type": "stream",
     "text": [
      "Epoch 0, global step 19: 'val_loss' reached 9.87440 (best 9.87440), saving model to 'tb_logs\\\\Resnet50_batch_size_32_epoch_100\\\\version_0\\\\checkpoints\\\\best-model-epoch=00-val_loss=9.87.ckpt' as top 1\n"
     ]
    },
    {
     "name": "stdout",
     "output_type": "stream",
     "text": [
      "Epoch 1: 100%|█| 19/19 [00:06<00:00,  3.10it/s, v_num=0, val_loss_step=2.280, val_acc_step=0.250, val_loss_epoch=2.100,"
     ]
    },
    {
     "name": "stderr",
     "output_type": "stream",
     "text": [
      "Epoch 1, global step 38: 'val_loss' reached 2.10486 (best 2.10486), saving model to 'tb_logs\\\\Resnet50_batch_size_32_epoch_100\\\\version_0\\\\checkpoints\\\\best-model-epoch=01-val_loss=2.10.ckpt' as top 1\n"
     ]
    },
    {
     "name": "stdout",
     "output_type": "stream",
     "text": [
      "Epoch 2: 100%|█| 19/19 [00:06<00:00,  3.03it/s, v_num=0, val_loss_step=2.850, val_acc_step=0.375, val_loss_epoch=2.470,"
     ]
    },
    {
     "name": "stderr",
     "output_type": "stream",
     "text": [
      "Epoch 2, global step 57: 'val_loss' was not in top 1\n"
     ]
    },
    {
     "name": "stdout",
     "output_type": "stream",
     "text": [
      "Epoch 3: 100%|█| 19/19 [00:06<00:00,  3.10it/s, v_num=0, val_loss_step=3.710, val_acc_step=0.250, val_loss_epoch=4.330,"
     ]
    },
    {
     "name": "stderr",
     "output_type": "stream",
     "text": [
      "Epoch 3, global step 76: 'val_loss' was not in top 1\n"
     ]
    },
    {
     "name": "stdout",
     "output_type": "stream",
     "text": [
      "Epoch 4: 100%|█| 19/19 [00:06<00:00,  3.09it/s, v_num=0, val_loss_step=2.540, val_acc_step=0.375, val_loss_epoch=2.630,"
     ]
    },
    {
     "name": "stderr",
     "output_type": "stream",
     "text": [
      "Epoch 4, global step 95: 'val_loss' was not in top 1\n"
     ]
    },
    {
     "name": "stdout",
     "output_type": "stream",
     "text": [
      "Epoch 5: 100%|█| 19/19 [00:06<00:00,  3.07it/s, v_num=0, val_loss_step=1.390, val_acc_step=0.375, val_loss_epoch=2.100,"
     ]
    },
    {
     "name": "stderr",
     "output_type": "stream",
     "text": [
      "Epoch 5, global step 114: 'val_loss' reached 2.10257 (best 2.10257), saving model to 'tb_logs\\\\Resnet50_batch_size_32_epoch_100\\\\version_0\\\\checkpoints\\\\best-model-epoch=05-val_loss=2.10.ckpt' as top 1\n"
     ]
    },
    {
     "name": "stdout",
     "output_type": "stream",
     "text": [
      "Epoch 6: 100%|█| 19/19 [00:06<00:00,  3.13it/s, v_num=0, val_loss_step=2.170, val_acc_step=0.250, val_loss_epoch=2.420,"
     ]
    },
    {
     "name": "stderr",
     "output_type": "stream",
     "text": [
      "Epoch 6, global step 133: 'val_loss' was not in top 1\n"
     ]
    },
    {
     "name": "stdout",
     "output_type": "stream",
     "text": [
      "Epoch 7: 100%|█| 19/19 [00:06<00:00,  3.09it/s, v_num=0, val_loss_step=6.830, val_acc_step=0.000, val_loss_epoch=5.860,"
     ]
    },
    {
     "name": "stderr",
     "output_type": "stream",
     "text": [
      "Epoch 7, global step 152: 'val_loss' was not in top 1\n"
     ]
    },
    {
     "name": "stdout",
     "output_type": "stream",
     "text": [
      "Epoch 8: 100%|█| 19/19 [00:05<00:00,  3.78it/s, v_num=0, val_loss_step=3.510, val_acc_step=0.250, val_loss_epoch=3.440,"
     ]
    },
    {
     "name": "stderr",
     "output_type": "stream",
     "text": [
      "Epoch 8, global step 171: 'val_loss' was not in top 1\n"
     ]
    },
    {
     "name": "stdout",
     "output_type": "stream",
     "text": [
      "Epoch 9: 100%|█| 19/19 [00:05<00:00,  3.76it/s, v_num=0, val_loss_step=3.520, val_acc_step=0.000, val_loss_epoch=3.120,"
     ]
    },
    {
     "name": "stderr",
     "output_type": "stream",
     "text": [
      "Epoch 9, global step 190: 'val_loss' was not in top 1\n"
     ]
    },
    {
     "name": "stdout",
     "output_type": "stream",
     "text": [
      "Epoch 10: 100%|█| 19/19 [00:05<00:00,  3.53it/s, v_num=0, val_loss_step=3.470, val_acc_step=0.125, val_loss_epoch=3.700"
     ]
    },
    {
     "name": "stderr",
     "output_type": "stream",
     "text": [
      "Epoch 10, global step 209: 'val_loss' was not in top 1\n"
     ]
    },
    {
     "name": "stdout",
     "output_type": "stream",
     "text": [
      "Epoch 11: 100%|█| 19/19 [00:05<00:00,  3.66it/s, v_num=0, val_loss_step=3.460, val_acc_step=0.125, val_loss_epoch=3.190"
     ]
    },
    {
     "name": "stderr",
     "output_type": "stream",
     "text": [
      "Epoch 11, global step 228: 'val_loss' was not in top 1\n"
     ]
    },
    {
     "name": "stdout",
     "output_type": "stream",
     "text": [
      "Epoch 0: 100%|████████████████████████████████████████████████████████████████| 19/19 [05:51<00:00, 18.49s/it, v_num=7]\n",
      "Epoch 12: 100%|█| 19/19 [00:05<00:00,  3.56it/s, v_num=0, val_loss_step=5.250, val_acc_step=0.125, val_loss_epoch=4.960"
     ]
    },
    {
     "name": "stderr",
     "output_type": "stream",
     "text": [
      "Epoch 12, global step 247: 'val_loss' was not in top 1\n"
     ]
    },
    {
     "name": "stdout",
     "output_type": "stream",
     "text": [
      "Epoch 13: 100%|█| 19/19 [00:05<00:00,  3.48it/s, v_num=0, val_loss_step=2.560, val_acc_step=0.375, val_loss_epoch=3.350"
     ]
    },
    {
     "name": "stderr",
     "output_type": "stream",
     "text": [
      "Epoch 13, global step 266: 'val_loss' was not in top 1\n"
     ]
    },
    {
     "name": "stdout",
     "output_type": "stream",
     "text": [
      "Epoch 14: 100%|█| 19/19 [00:05<00:00,  3.62it/s, v_num=0, val_loss_step=2.790, val_acc_step=0.375, val_loss_epoch=2.880"
     ]
    },
    {
     "name": "stderr",
     "output_type": "stream",
     "text": [
      "Epoch 14, global step 285: 'val_loss' was not in top 1\n"
     ]
    },
    {
     "name": "stdout",
     "output_type": "stream",
     "text": [
      "Epoch 15: 100%|█| 19/19 [00:05<00:00,  3.64it/s, v_num=0, val_loss_step=3.010, val_acc_step=0.250, val_loss_epoch=3.120"
     ]
    },
    {
     "name": "stderr",
     "output_type": "stream",
     "text": [
      "Epoch 15, global step 304: 'val_loss' was not in top 1\n"
     ]
    },
    {
     "name": "stdout",
     "output_type": "stream",
     "text": [
      "Epoch 16: 100%|█| 19/19 [00:05<00:00,  3.78it/s, v_num=0, val_loss_step=2.370, val_acc_step=0.250, val_loss_epoch=3.840"
     ]
    },
    {
     "name": "stderr",
     "output_type": "stream",
     "text": [
      "Epoch 16, global step 323: 'val_loss' was not in top 1\n"
     ]
    },
    {
     "name": "stdout",
     "output_type": "stream",
     "text": [
      "Epoch 17: 100%|█| 19/19 [00:06<00:00,  3.11it/s, v_num=0, val_loss_step=3.110, val_acc_step=0.250, val_loss_epoch=3.280"
     ]
    },
    {
     "name": "stderr",
     "output_type": "stream",
     "text": [
      "Epoch 17, global step 342: 'val_loss' was not in top 1\n"
     ]
    },
    {
     "name": "stdout",
     "output_type": "stream",
     "text": [
      "Epoch 18: 100%|█| 19/19 [00:06<00:00,  3.05it/s, v_num=0, val_loss_step=2.730, val_acc_step=0.250, val_loss_epoch=3.070"
     ]
    },
    {
     "name": "stderr",
     "output_type": "stream",
     "text": [
      "Epoch 18, global step 361: 'val_loss' was not in top 1\n"
     ]
    },
    {
     "name": "stdout",
     "output_type": "stream",
     "text": [
      "Epoch 19: 100%|█| 19/19 [00:06<00:00,  3.15it/s, v_num=0, val_loss_step=2.240, val_acc_step=0.250, val_loss_epoch=3.380"
     ]
    },
    {
     "name": "stderr",
     "output_type": "stream",
     "text": [
      "Epoch 19, global step 380: 'val_loss' was not in top 1\n"
     ]
    },
    {
     "name": "stdout",
     "output_type": "stream",
     "text": [
      "Epoch 20: 100%|█| 19/19 [00:05<00:00,  3.36it/s, v_num=0, val_loss_step=1.710, val_acc_step=0.375, val_loss_epoch=3.450"
     ]
    },
    {
     "name": "stderr",
     "output_type": "stream",
     "text": [
      "Epoch 20, global step 399: 'val_loss' was not in top 1\n"
     ]
    },
    {
     "name": "stdout",
     "output_type": "stream",
     "text": [
      "Epoch 21: 100%|█| 19/19 [00:05<00:00,  3.66it/s, v_num=0, val_loss_step=3.250, val_acc_step=0.250, val_loss_epoch=3.400"
     ]
    },
    {
     "name": "stderr",
     "output_type": "stream",
     "text": [
      "Epoch 21, global step 418: 'val_loss' was not in top 1\n"
     ]
    },
    {
     "name": "stdout",
     "output_type": "stream",
     "text": [
      "Epoch 22: 100%|█| 19/19 [00:05<00:00,  3.69it/s, v_num=0, val_loss_step=2.960, val_acc_step=0.375, val_loss_epoch=3.560"
     ]
    },
    {
     "name": "stderr",
     "output_type": "stream",
     "text": [
      "Epoch 22, global step 437: 'val_loss' was not in top 1\n"
     ]
    },
    {
     "name": "stdout",
     "output_type": "stream",
     "text": [
      "Epoch 23: 100%|█| 19/19 [00:05<00:00,  3.58it/s, v_num=0, val_loss_step=2.480, val_acc_step=0.375, val_loss_epoch=3.200"
     ]
    },
    {
     "name": "stderr",
     "output_type": "stream",
     "text": [
      "Epoch 23, global step 456: 'val_loss' was not in top 1\n"
     ]
    },
    {
     "name": "stdout",
     "output_type": "stream",
     "text": [
      "Epoch 24: 100%|█| 19/19 [00:05<00:00,  3.66it/s, v_num=0, val_loss_step=3.000, val_acc_step=0.375, val_loss_epoch=3.120"
     ]
    },
    {
     "name": "stderr",
     "output_type": "stream",
     "text": [
      "Epoch 24, global step 475: 'val_loss' was not in top 1\n"
     ]
    },
    {
     "name": "stdout",
     "output_type": "stream",
     "text": [
      "Epoch 25: 100%|█| 19/19 [00:05<00:00,  3.54it/s, v_num=0, val_loss_step=3.170, val_acc_step=0.500, val_loss_epoch=3.560"
     ]
    },
    {
     "name": "stderr",
     "output_type": "stream",
     "text": [
      "Epoch 25, global step 494: 'val_loss' was not in top 1\n"
     ]
    },
    {
     "name": "stdout",
     "output_type": "stream",
     "text": [
      "Epoch 26: 100%|█| 19/19 [00:05<00:00,  3.77it/s, v_num=0, val_loss_step=2.110, val_acc_step=0.250, val_loss_epoch=3.240"
     ]
    },
    {
     "name": "stderr",
     "output_type": "stream",
     "text": [
      "Epoch 26, global step 513: 'val_loss' was not in top 1\n"
     ]
    },
    {
     "name": "stdout",
     "output_type": "stream",
     "text": [
      "Epoch 27: 100%|█| 19/19 [00:04<00:00,  3.80it/s, v_num=0, val_loss_step=3.000, val_acc_step=0.375, val_loss_epoch=3.620"
     ]
    },
    {
     "name": "stderr",
     "output_type": "stream",
     "text": [
      "Epoch 27, global step 532: 'val_loss' was not in top 1\n"
     ]
    },
    {
     "name": "stdout",
     "output_type": "stream",
     "text": [
      "Epoch 28: 100%|█| 19/19 [00:05<00:00,  3.74it/s, v_num=0, val_loss_step=1.920, val_acc_step=0.500, val_loss_epoch=3.950"
     ]
    },
    {
     "name": "stderr",
     "output_type": "stream",
     "text": [
      "Epoch 28, global step 551: 'val_loss' was not in top 1\n"
     ]
    },
    {
     "name": "stdout",
     "output_type": "stream",
     "text": [
      "Epoch 29: 100%|█| 19/19 [00:05<00:00,  3.74it/s, v_num=0, val_loss_step=6.170, val_acc_step=0.000, val_loss_epoch=5.450"
     ]
    },
    {
     "name": "stderr",
     "output_type": "stream",
     "text": [
      "Epoch 29, global step 570: 'val_loss' was not in top 1\n"
     ]
    },
    {
     "name": "stdout",
     "output_type": "stream",
     "text": [
      "Epoch 30: 100%|█| 19/19 [00:04<00:00,  3.93it/s, v_num=0, val_loss_step=3.100, val_acc_step=0.250, val_loss_epoch=4.410"
     ]
    },
    {
     "name": "stderr",
     "output_type": "stream",
     "text": [
      "Epoch 30, global step 589: 'val_loss' was not in top 1\n"
     ]
    },
    {
     "name": "stdout",
     "output_type": "stream",
     "text": [
      "Epoch 31: 100%|█| 19/19 [00:05<00:00,  3.65it/s, v_num=0, val_loss_step=2.880, val_acc_step=0.250, val_loss_epoch=4.030"
     ]
    },
    {
     "name": "stderr",
     "output_type": "stream",
     "text": [
      "Epoch 31, global step 608: 'val_loss' was not in top 1\n"
     ]
    },
    {
     "name": "stdout",
     "output_type": "stream",
     "text": [
      "Epoch 32: 100%|█| 19/19 [00:04<00:00,  3.83it/s, v_num=0, val_loss_step=4.730, val_acc_step=0.250, val_loss_epoch=5.600"
     ]
    },
    {
     "name": "stderr",
     "output_type": "stream",
     "text": [
      "Epoch 32, global step 627: 'val_loss' was not in top 1\n"
     ]
    },
    {
     "name": "stdout",
     "output_type": "stream",
     "text": [
      "Epoch 33: 100%|█| 19/19 [00:04<00:00,  3.94it/s, v_num=0, val_loss_step=4.930, val_acc_step=0.125, val_loss_epoch=5.080"
     ]
    },
    {
     "name": "stderr",
     "output_type": "stream",
     "text": [
      "Epoch 33, global step 646: 'val_loss' was not in top 1\n"
     ]
    },
    {
     "name": "stdout",
     "output_type": "stream",
     "text": [
      "Epoch 34: 100%|█| 19/19 [00:05<00:00,  3.61it/s, v_num=0, val_loss_step=2.800, val_acc_step=0.375, val_loss_epoch=4.470"
     ]
    },
    {
     "name": "stderr",
     "output_type": "stream",
     "text": [
      "Epoch 34, global step 665: 'val_loss' was not in top 1\n"
     ]
    },
    {
     "name": "stdout",
     "output_type": "stream",
     "text": [
      "Epoch 35: 100%|█| 19/19 [00:04<00:00,  3.91it/s, v_num=0, val_loss_step=1.560, val_acc_step=0.250, val_loss_epoch=3.580"
     ]
    },
    {
     "name": "stderr",
     "output_type": "stream",
     "text": [
      "Epoch 35, global step 684: 'val_loss' was not in top 1\n"
     ]
    },
    {
     "name": "stdout",
     "output_type": "stream",
     "text": [
      "Epoch 36: 100%|█| 19/19 [00:05<00:00,  3.80it/s, v_num=0, val_loss_step=2.650, val_acc_step=0.375, val_loss_epoch=3.410"
     ]
    },
    {
     "name": "stderr",
     "output_type": "stream",
     "text": [
      "Epoch 36, global step 703: 'val_loss' was not in top 1\n"
     ]
    },
    {
     "name": "stdout",
     "output_type": "stream",
     "text": [
      "Epoch 37: 100%|█| 19/19 [00:04<00:00,  3.82it/s, v_num=0, val_loss_step=2.180, val_acc_step=0.250, val_loss_epoch=3.340"
     ]
    },
    {
     "name": "stderr",
     "output_type": "stream",
     "text": [
      "Epoch 37, global step 722: 'val_loss' was not in top 1\n"
     ]
    },
    {
     "name": "stdout",
     "output_type": "stream",
     "text": [
      "Epoch 38: 100%|█| 19/19 [00:04<00:00,  3.87it/s, v_num=0, val_loss_step=2.780, val_acc_step=0.375, val_loss_epoch=3.800"
     ]
    },
    {
     "name": "stderr",
     "output_type": "stream",
     "text": [
      "Epoch 38, global step 741: 'val_loss' was not in top 1\n"
     ]
    },
    {
     "name": "stdout",
     "output_type": "stream",
     "text": [
      "Epoch 39: 100%|█| 19/19 [00:04<00:00,  3.83it/s, v_num=0, val_loss_step=3.060, val_acc_step=0.500, val_loss_epoch=3.630"
     ]
    },
    {
     "name": "stderr",
     "output_type": "stream",
     "text": [
      "Epoch 39, global step 760: 'val_loss' was not in top 1\n"
     ]
    },
    {
     "name": "stdout",
     "output_type": "stream",
     "text": [
      "Epoch 40: 100%|█| 19/19 [00:04<00:00,  3.81it/s, v_num=0, val_loss_step=2.990, val_acc_step=0.375, val_loss_epoch=3.650"
     ]
    },
    {
     "name": "stderr",
     "output_type": "stream",
     "text": [
      "Epoch 40, global step 779: 'val_loss' was not in top 1\n"
     ]
    },
    {
     "name": "stdout",
     "output_type": "stream",
     "text": [
      "Epoch 41: 100%|█| 19/19 [00:05<00:00,  3.73it/s, v_num=0, val_loss_step=2.480, val_acc_step=0.375, val_loss_epoch=3.110"
     ]
    },
    {
     "name": "stderr",
     "output_type": "stream",
     "text": [
      "Epoch 41, global step 798: 'val_loss' was not in top 1\n"
     ]
    },
    {
     "name": "stdout",
     "output_type": "stream",
     "text": [
      "Epoch 42: 100%|█| 19/19 [00:05<00:00,  3.64it/s, v_num=0, val_loss_step=2.630, val_acc_step=0.375, val_loss_epoch=3.270"
     ]
    },
    {
     "name": "stderr",
     "output_type": "stream",
     "text": [
      "Epoch 42, global step 817: 'val_loss' was not in top 1\n"
     ]
    },
    {
     "name": "stdout",
     "output_type": "stream",
     "text": [
      "Epoch 43: 100%|█| 19/19 [00:05<00:00,  3.70it/s, v_num=0, val_loss_step=1.900, val_acc_step=0.250, val_loss_epoch=3.330"
     ]
    },
    {
     "name": "stderr",
     "output_type": "stream",
     "text": [
      "Epoch 43, global step 836: 'val_loss' was not in top 1\n"
     ]
    },
    {
     "name": "stdout",
     "output_type": "stream",
     "text": [
      "Epoch 44: 100%|█| 19/19 [00:05<00:00,  3.72it/s, v_num=0, val_loss_step=1.780, val_acc_step=0.375, val_loss_epoch=3.190"
     ]
    },
    {
     "name": "stderr",
     "output_type": "stream",
     "text": [
      "Epoch 44, global step 855: 'val_loss' was not in top 1\n"
     ]
    },
    {
     "name": "stdout",
     "output_type": "stream",
     "text": [
      "Epoch 45: 100%|█| 19/19 [00:05<00:00,  3.76it/s, v_num=0, val_loss_step=2.010, val_acc_step=0.500, val_loss_epoch=3.220"
     ]
    },
    {
     "name": "stderr",
     "output_type": "stream",
     "text": [
      "Epoch 45, global step 874: 'val_loss' was not in top 1\n"
     ]
    },
    {
     "name": "stdout",
     "output_type": "stream",
     "text": [
      "Epoch 46: 100%|█| 19/19 [00:05<00:00,  3.73it/s, v_num=0, val_loss_step=1.960, val_acc_step=0.500, val_loss_epoch=3.240"
     ]
    },
    {
     "name": "stderr",
     "output_type": "stream",
     "text": [
      "Epoch 46, global step 893: 'val_loss' was not in top 1\n"
     ]
    },
    {
     "name": "stdout",
     "output_type": "stream",
     "text": [
      "Epoch 47: 100%|█| 19/19 [00:06<00:00,  3.05it/s, v_num=0, val_loss_step=1.860, val_acc_step=0.500, val_loss_epoch=3.280"
     ]
    },
    {
     "name": "stderr",
     "output_type": "stream",
     "text": [
      "Epoch 47, global step 912: 'val_loss' was not in top 1\n"
     ]
    },
    {
     "name": "stdout",
     "output_type": "stream",
     "text": [
      "Epoch 48: 100%|█| 19/19 [00:06<00:00,  3.13it/s, v_num=0, val_loss_step=1.960, val_acc_step=0.500, val_loss_epoch=3.280"
     ]
    },
    {
     "name": "stderr",
     "output_type": "stream",
     "text": [
      "Epoch 48, global step 931: 'val_loss' was not in top 1\n"
     ]
    },
    {
     "name": "stdout",
     "output_type": "stream",
     "text": [
      "Epoch 49: 100%|█| 19/19 [00:06<00:00,  3.02it/s, v_num=0, val_loss_step=2.010, val_acc_step=0.500, val_loss_epoch=3.270"
     ]
    },
    {
     "name": "stderr",
     "output_type": "stream",
     "text": [
      "Epoch 49, global step 950: 'val_loss' was not in top 1\n"
     ]
    },
    {
     "name": "stdout",
     "output_type": "stream",
     "text": [
      "Epoch 50: 100%|█| 19/19 [00:06<00:00,  3.10it/s, v_num=0, val_loss_step=2.080, val_acc_step=0.500, val_loss_epoch=3.300"
     ]
    },
    {
     "name": "stderr",
     "output_type": "stream",
     "text": [
      "Epoch 50, global step 969: 'val_loss' was not in top 1\n"
     ]
    },
    {
     "name": "stdout",
     "output_type": "stream",
     "text": [
      "Epoch 51: 100%|█| 19/19 [00:06<00:00,  3.08it/s, v_num=0, val_loss_step=2.060, val_acc_step=0.500, val_loss_epoch=3.300"
     ]
    },
    {
     "name": "stderr",
     "output_type": "stream",
     "text": [
      "Epoch 51, global step 988: 'val_loss' was not in top 1\n"
     ]
    },
    {
     "name": "stdout",
     "output_type": "stream",
     "text": [
      "Epoch 52: 100%|█| 19/19 [00:06<00:00,  3.04it/s, v_num=0, val_loss_step=1.980, val_acc_step=0.500, val_loss_epoch=3.290"
     ]
    },
    {
     "name": "stderr",
     "output_type": "stream",
     "text": [
      "Epoch 52, global step 1007: 'val_loss' was not in top 1\n"
     ]
    },
    {
     "name": "stdout",
     "output_type": "stream",
     "text": [
      "Epoch 53: 100%|█| 19/19 [00:06<00:00,  3.07it/s, v_num=0, val_loss_step=1.980, val_acc_step=0.500, val_loss_epoch=3.290"
     ]
    },
    {
     "name": "stderr",
     "output_type": "stream",
     "text": [
      "Epoch 53, global step 1026: 'val_loss' was not in top 1\n"
     ]
    },
    {
     "name": "stdout",
     "output_type": "stream",
     "text": [
      "Epoch 54: 100%|█| 19/19 [00:06<00:00,  3.08it/s, v_num=0, val_loss_step=2.040, val_acc_step=0.500, val_loss_epoch=3.310"
     ]
    },
    {
     "name": "stderr",
     "output_type": "stream",
     "text": [
      "Epoch 54, global step 1045: 'val_loss' was not in top 1\n"
     ]
    },
    {
     "name": "stdout",
     "output_type": "stream",
     "text": [
      "Epoch 55: 100%|█| 19/19 [00:06<00:00,  3.01it/s, v_num=0, val_loss_step=2.040, val_acc_step=0.500, val_loss_epoch=3.320"
     ]
    },
    {
     "name": "stderr",
     "output_type": "stream",
     "text": [
      "Epoch 55, global step 1064: 'val_loss' was not in top 1\n"
     ]
    },
    {
     "name": "stdout",
     "output_type": "stream",
     "text": [
      "Epoch 56: 100%|█| 19/19 [00:06<00:00,  3.11it/s, v_num=0, val_loss_step=2.040, val_acc_step=0.500, val_loss_epoch=3.360"
     ]
    },
    {
     "name": "stderr",
     "output_type": "stream",
     "text": [
      "Epoch 56, global step 1083: 'val_loss' was not in top 1\n"
     ]
    },
    {
     "name": "stdout",
     "output_type": "stream",
     "text": [
      "Epoch 57: 100%|█| 19/19 [00:06<00:00,  3.03it/s, v_num=0, val_loss_step=2.030, val_acc_step=0.500, val_loss_epoch=3.330"
     ]
    },
    {
     "name": "stderr",
     "output_type": "stream",
     "text": [
      "Epoch 57, global step 1102: 'val_loss' was not in top 1\n"
     ]
    },
    {
     "name": "stdout",
     "output_type": "stream",
     "text": [
      "Epoch 58: 100%|█| 19/19 [00:06<00:00,  3.08it/s, v_num=0, val_loss_step=1.980, val_acc_step=0.500, val_loss_epoch=3.360"
     ]
    },
    {
     "name": "stderr",
     "output_type": "stream",
     "text": [
      "Epoch 58, global step 1121: 'val_loss' was not in top 1\n"
     ]
    },
    {
     "name": "stdout",
     "output_type": "stream",
     "text": [
      "Epoch 59: 100%|█| 19/19 [00:06<00:00,  3.15it/s, v_num=0, val_loss_step=1.940, val_acc_step=0.500, val_loss_epoch=3.340"
     ]
    },
    {
     "name": "stderr",
     "output_type": "stream",
     "text": [
      "Epoch 59, global step 1140: 'val_loss' was not in top 1\n"
     ]
    },
    {
     "name": "stdout",
     "output_type": "stream",
     "text": [
      "Epoch 60: 100%|█| 19/19 [00:06<00:00,  3.01it/s, v_num=0, val_loss_step=2.000, val_acc_step=0.500, val_loss_epoch=3.310"
     ]
    },
    {
     "name": "stderr",
     "output_type": "stream",
     "text": [
      "Epoch 60, global step 1159: 'val_loss' was not in top 1\n"
     ]
    },
    {
     "name": "stdout",
     "output_type": "stream",
     "text": [
      "Epoch 61: 100%|█| 19/19 [00:06<00:00,  3.13it/s, v_num=0, val_loss_step=1.940, val_acc_step=0.500, val_loss_epoch=3.330"
     ]
    },
    {
     "name": "stderr",
     "output_type": "stream",
     "text": [
      "Epoch 61, global step 1178: 'val_loss' was not in top 1\n"
     ]
    },
    {
     "name": "stdout",
     "output_type": "stream",
     "text": [
      "Epoch 62: 100%|█| 19/19 [00:06<00:00,  3.12it/s, v_num=0, val_loss_step=2.040, val_acc_step=0.500, val_loss_epoch=3.370"
     ]
    },
    {
     "name": "stderr",
     "output_type": "stream",
     "text": [
      "Epoch 62, global step 1197: 'val_loss' was not in top 1\n"
     ]
    },
    {
     "name": "stdout",
     "output_type": "stream",
     "text": [
      "Epoch 63: 100%|█| 19/19 [00:06<00:00,  3.00it/s, v_num=0, val_loss_step=2.050, val_acc_step=0.500, val_loss_epoch=3.370"
     ]
    },
    {
     "name": "stderr",
     "output_type": "stream",
     "text": [
      "Epoch 63, global step 1216: 'val_loss' was not in top 1\n"
     ]
    },
    {
     "name": "stdout",
     "output_type": "stream",
     "text": [
      "Epoch 64: 100%|█| 19/19 [00:06<00:00,  3.13it/s, v_num=0, val_loss_step=2.080, val_acc_step=0.500, val_loss_epoch=3.380"
     ]
    },
    {
     "name": "stderr",
     "output_type": "stream",
     "text": [
      "Epoch 64, global step 1235: 'val_loss' was not in top 1\n"
     ]
    },
    {
     "name": "stdout",
     "output_type": "stream",
     "text": [
      "Epoch 65: 100%|█| 19/19 [00:06<00:00,  3.02it/s, v_num=0, val_loss_step=2.070, val_acc_step=0.500, val_loss_epoch=3.370"
     ]
    },
    {
     "name": "stderr",
     "output_type": "stream",
     "text": [
      "Epoch 65, global step 1254: 'val_loss' was not in top 1\n"
     ]
    },
    {
     "name": "stdout",
     "output_type": "stream",
     "text": [
      "Epoch 66: 100%|█| 19/19 [00:06<00:00,  3.10it/s, v_num=0, val_loss_step=2.430, val_acc_step=0.500, val_loss_epoch=3.460"
     ]
    },
    {
     "name": "stderr",
     "output_type": "stream",
     "text": [
      "Epoch 66, global step 1273: 'val_loss' was not in top 1\n"
     ]
    },
    {
     "name": "stdout",
     "output_type": "stream",
     "text": [
      "Epoch 67: 100%|█| 19/19 [00:06<00:00,  3.08it/s, v_num=0, val_loss_step=2.300, val_acc_step=0.500, val_loss_epoch=3.440"
     ]
    },
    {
     "name": "stderr",
     "output_type": "stream",
     "text": [
      "Epoch 67, global step 1292: 'val_loss' was not in top 1\n"
     ]
    },
    {
     "name": "stdout",
     "output_type": "stream",
     "text": [
      "Epoch 68: 100%|█| 19/19 [00:06<00:00,  3.02it/s, v_num=0, val_loss_step=2.210, val_acc_step=0.500, val_loss_epoch=3.400"
     ]
    },
    {
     "name": "stderr",
     "output_type": "stream",
     "text": [
      "Epoch 68, global step 1311: 'val_loss' was not in top 1\n"
     ]
    },
    {
     "name": "stdout",
     "output_type": "stream",
     "text": [
      "Epoch 69: 100%|█| 19/19 [00:06<00:00,  3.10it/s, v_num=0, val_loss_step=2.190, val_acc_step=0.500, val_loss_epoch=3.450"
     ]
    },
    {
     "name": "stderr",
     "output_type": "stream",
     "text": [
      "Epoch 69, global step 1330: 'val_loss' was not in top 1\n"
     ]
    },
    {
     "name": "stdout",
     "output_type": "stream",
     "text": [
      "Epoch 70: 100%|█| 19/19 [00:06<00:00,  3.15it/s, v_num=0, val_loss_step=2.240, val_acc_step=0.375, val_loss_epoch=3.440"
     ]
    },
    {
     "name": "stderr",
     "output_type": "stream",
     "text": [
      "Epoch 70, global step 1349: 'val_loss' was not in top 1\n"
     ]
    },
    {
     "name": "stdout",
     "output_type": "stream",
     "text": [
      "Epoch 71: 100%|█| 19/19 [00:06<00:00,  3.03it/s, v_num=0, val_loss_step=2.170, val_acc_step=0.375, val_loss_epoch=3.420"
     ]
    },
    {
     "name": "stderr",
     "output_type": "stream",
     "text": [
      "Epoch 71, global step 1368: 'val_loss' was not in top 1\n"
     ]
    },
    {
     "name": "stdout",
     "output_type": "stream",
     "text": [
      "Epoch 72: 100%|█| 19/19 [00:06<00:00,  3.07it/s, v_num=0, val_loss_step=2.200, val_acc_step=0.500, val_loss_epoch=3.380"
     ]
    },
    {
     "name": "stderr",
     "output_type": "stream",
     "text": [
      "Epoch 72, global step 1387: 'val_loss' was not in top 1\n"
     ]
    },
    {
     "name": "stdout",
     "output_type": "stream",
     "text": [
      "Epoch 73: 100%|█| 19/19 [00:06<00:00,  3.09it/s, v_num=0, val_loss_step=2.280, val_acc_step=0.500, val_loss_epoch=3.390"
     ]
    },
    {
     "name": "stderr",
     "output_type": "stream",
     "text": [
      "Epoch 73, global step 1406: 'val_loss' was not in top 1\n"
     ]
    },
    {
     "name": "stdout",
     "output_type": "stream",
     "text": [
      "Epoch 74: 100%|█| 19/19 [00:06<00:00,  3.12it/s, v_num=0, val_loss_step=2.200, val_acc_step=0.500, val_loss_epoch=3.390"
     ]
    },
    {
     "name": "stderr",
     "output_type": "stream",
     "text": [
      "Epoch 74, global step 1425: 'val_loss' was not in top 1\n"
     ]
    },
    {
     "name": "stdout",
     "output_type": "stream",
     "text": [
      "Epoch 75: 100%|█| 19/19 [00:06<00:00,  3.07it/s, v_num=0, val_loss_step=2.340, val_acc_step=0.500, val_loss_epoch=3.430"
     ]
    },
    {
     "name": "stderr",
     "output_type": "stream",
     "text": [
      "Epoch 75, global step 1444: 'val_loss' was not in top 1\n"
     ]
    },
    {
     "name": "stdout",
     "output_type": "stream",
     "text": [
      "Epoch 76: 100%|█| 19/19 [00:06<00:00,  3.02it/s, v_num=0, val_loss_step=2.360, val_acc_step=0.500, val_loss_epoch=3.400"
     ]
    },
    {
     "name": "stderr",
     "output_type": "stream",
     "text": [
      "Epoch 76, global step 1463: 'val_loss' was not in top 1\n"
     ]
    },
    {
     "name": "stdout",
     "output_type": "stream",
     "text": [
      "Epoch 77: 100%|█| 19/19 [00:06<00:00,  3.10it/s, v_num=0, val_loss_step=2.270, val_acc_step=0.500, val_loss_epoch=3.440"
     ]
    },
    {
     "name": "stderr",
     "output_type": "stream",
     "text": [
      "Epoch 77, global step 1482: 'val_loss' was not in top 1\n"
     ]
    },
    {
     "name": "stdout",
     "output_type": "stream",
     "text": [
      "Epoch 78: 100%|█| 19/19 [00:06<00:00,  3.07it/s, v_num=0, val_loss_step=2.200, val_acc_step=0.500, val_loss_epoch=3.420"
     ]
    },
    {
     "name": "stderr",
     "output_type": "stream",
     "text": [
      "Epoch 78, global step 1501: 'val_loss' was not in top 1\n"
     ]
    },
    {
     "name": "stdout",
     "output_type": "stream",
     "text": [
      "Epoch 79: 100%|█| 19/19 [00:06<00:00,  3.11it/s, v_num=0, val_loss_step=2.290, val_acc_step=0.500, val_loss_epoch=3.420"
     ]
    },
    {
     "name": "stderr",
     "output_type": "stream",
     "text": [
      "Epoch 79, global step 1520: 'val_loss' was not in top 1\n"
     ]
    },
    {
     "name": "stdout",
     "output_type": "stream",
     "text": [
      "Epoch 80: 100%|█| 19/19 [00:06<00:00,  3.10it/s, v_num=0, val_loss_step=2.270, val_acc_step=0.500, val_loss_epoch=3.400"
     ]
    },
    {
     "name": "stderr",
     "output_type": "stream",
     "text": [
      "Epoch 80, global step 1539: 'val_loss' was not in top 1\n"
     ]
    },
    {
     "name": "stdout",
     "output_type": "stream",
     "text": [
      "Epoch 81: 100%|█| 19/19 [00:06<00:00,  3.04it/s, v_num=0, val_loss_step=2.270, val_acc_step=0.500, val_loss_epoch=3.420"
     ]
    },
    {
     "name": "stderr",
     "output_type": "stream",
     "text": [
      "Epoch 81, global step 1558: 'val_loss' was not in top 1\n"
     ]
    },
    {
     "name": "stdout",
     "output_type": "stream",
     "text": [
      "Epoch 82: 100%|█| 19/19 [00:06<00:00,  3.11it/s, v_num=0, val_loss_step=2.300, val_acc_step=0.500, val_loss_epoch=3.440"
     ]
    },
    {
     "name": "stderr",
     "output_type": "stream",
     "text": [
      "Epoch 82, global step 1577: 'val_loss' was not in top 1\n"
     ]
    },
    {
     "name": "stdout",
     "output_type": "stream",
     "text": [
      "Epoch 83: 100%|█| 19/19 [00:06<00:00,  3.13it/s, v_num=0, val_loss_step=2.270, val_acc_step=0.500, val_loss_epoch=3.400"
     ]
    },
    {
     "name": "stderr",
     "output_type": "stream",
     "text": [
      "Epoch 83, global step 1596: 'val_loss' was not in top 1\n"
     ]
    },
    {
     "name": "stdout",
     "output_type": "stream",
     "text": [
      "Epoch 84: 100%|█| 19/19 [00:06<00:00,  3.08it/s, v_num=0, val_loss_step=2.360, val_acc_step=0.500, val_loss_epoch=3.400"
     ]
    },
    {
     "name": "stderr",
     "output_type": "stream",
     "text": [
      "Epoch 84, global step 1615: 'val_loss' was not in top 1\n"
     ]
    },
    {
     "name": "stdout",
     "output_type": "stream",
     "text": [
      "Epoch 85: 100%|█| 19/19 [00:06<00:00,  3.16it/s, v_num=0, val_loss_step=2.320, val_acc_step=0.375, val_loss_epoch=3.470"
     ]
    },
    {
     "name": "stderr",
     "output_type": "stream",
     "text": [
      "Epoch 85, global step 1634: 'val_loss' was not in top 1\n"
     ]
    },
    {
     "name": "stdout",
     "output_type": "stream",
     "text": [
      "Epoch 86: 100%|█| 19/19 [00:06<00:00,  3.11it/s, v_num=0, val_loss_step=2.310, val_acc_step=0.375, val_loss_epoch=3.450"
     ]
    },
    {
     "name": "stderr",
     "output_type": "stream",
     "text": [
      "Epoch 86, global step 1653: 'val_loss' was not in top 1\n"
     ]
    },
    {
     "name": "stdout",
     "output_type": "stream",
     "text": [
      "Epoch 87: 100%|█| 19/19 [00:06<00:00,  3.13it/s, v_num=0, val_loss_step=2.260, val_acc_step=0.375, val_loss_epoch=3.480"
     ]
    },
    {
     "name": "stderr",
     "output_type": "stream",
     "text": [
      "Epoch 87, global step 1672: 'val_loss' was not in top 1\n"
     ]
    },
    {
     "name": "stdout",
     "output_type": "stream",
     "text": [
      "Epoch 88: 100%|█| 19/19 [00:06<00:00,  3.11it/s, v_num=0, val_loss_step=2.320, val_acc_step=0.500, val_loss_epoch=3.450"
     ]
    },
    {
     "name": "stderr",
     "output_type": "stream",
     "text": [
      "Epoch 88, global step 1691: 'val_loss' was not in top 1\n"
     ]
    },
    {
     "name": "stdout",
     "output_type": "stream",
     "text": [
      "Epoch 89: 100%|█| 19/19 [00:06<00:00,  3.08it/s, v_num=0, val_loss_step=2.290, val_acc_step=0.500, val_loss_epoch=3.470"
     ]
    },
    {
     "name": "stderr",
     "output_type": "stream",
     "text": [
      "Epoch 89, global step 1710: 'val_loss' was not in top 1\n"
     ]
    },
    {
     "name": "stdout",
     "output_type": "stream",
     "text": [
      "Epoch 90: 100%|█| 19/19 [00:06<00:00,  3.07it/s, v_num=0, val_loss_step=2.270, val_acc_step=0.375, val_loss_epoch=3.450"
     ]
    },
    {
     "name": "stderr",
     "output_type": "stream",
     "text": [
      "Epoch 90, global step 1729: 'val_loss' was not in top 1\n"
     ]
    },
    {
     "name": "stdout",
     "output_type": "stream",
     "text": [
      "Epoch 91: 100%|█| 19/19 [00:06<00:00,  3.12it/s, v_num=0, val_loss_step=2.280, val_acc_step=0.375, val_loss_epoch=3.470"
     ]
    },
    {
     "name": "stderr",
     "output_type": "stream",
     "text": [
      "Epoch 91, global step 1748: 'val_loss' was not in top 1\n"
     ]
    },
    {
     "name": "stdout",
     "output_type": "stream",
     "text": [
      "Epoch 92: 100%|█| 19/19 [00:06<00:00,  3.15it/s, v_num=0, val_loss_step=2.250, val_acc_step=0.500, val_loss_epoch=3.470"
     ]
    },
    {
     "name": "stderr",
     "output_type": "stream",
     "text": [
      "Epoch 92, global step 1767: 'val_loss' was not in top 1\n"
     ]
    },
    {
     "name": "stdout",
     "output_type": "stream",
     "text": [
      "Epoch 93: 100%|█| 19/19 [00:05<00:00,  3.19it/s, v_num=0, val_loss_step=2.170, val_acc_step=0.500, val_loss_epoch=3.470"
     ]
    },
    {
     "name": "stderr",
     "output_type": "stream",
     "text": [
      "Epoch 93, global step 1786: 'val_loss' was not in top 1\n"
     ]
    },
    {
     "name": "stdout",
     "output_type": "stream",
     "text": [
      "Epoch 94: 100%|█| 19/19 [00:06<00:00,  3.06it/s, v_num=0, val_loss_step=2.190, val_acc_step=0.375, val_loss_epoch=3.460"
     ]
    },
    {
     "name": "stderr",
     "output_type": "stream",
     "text": [
      "Epoch 94, global step 1805: 'val_loss' was not in top 1\n"
     ]
    },
    {
     "name": "stdout",
     "output_type": "stream",
     "text": [
      "Epoch 95: 100%|█| 19/19 [00:06<00:00,  3.13it/s, v_num=0, val_loss_step=2.280, val_acc_step=0.375, val_loss_epoch=3.490"
     ]
    },
    {
     "name": "stderr",
     "output_type": "stream",
     "text": [
      "Epoch 95, global step 1824: 'val_loss' was not in top 1\n"
     ]
    },
    {
     "name": "stdout",
     "output_type": "stream",
     "text": [
      "Epoch 96: 100%|█| 19/19 [00:05<00:00,  3.20it/s, v_num=0, val_loss_step=2.380, val_acc_step=0.500, val_loss_epoch=3.460"
     ]
    },
    {
     "name": "stderr",
     "output_type": "stream",
     "text": [
      "Epoch 96, global step 1843: 'val_loss' was not in top 1\n"
     ]
    },
    {
     "name": "stdout",
     "output_type": "stream",
     "text": [
      "Epoch 97: 100%|█| 19/19 [00:06<00:00,  3.11it/s, v_num=0, val_loss_step=2.320, val_acc_step=0.500, val_loss_epoch=3.450"
     ]
    },
    {
     "name": "stderr",
     "output_type": "stream",
     "text": [
      "Epoch 97, global step 1862: 'val_loss' was not in top 1\n"
     ]
    },
    {
     "name": "stdout",
     "output_type": "stream",
     "text": [
      "Epoch 98: 100%|█| 19/19 [00:06<00:00,  3.13it/s, v_num=0, val_loss_step=2.240, val_acc_step=0.500, val_loss_epoch=3.480"
     ]
    },
    {
     "name": "stderr",
     "output_type": "stream",
     "text": [
      "Epoch 98, global step 1881: 'val_loss' was not in top 1\n"
     ]
    },
    {
     "name": "stdout",
     "output_type": "stream",
     "text": [
      "Epoch 99: 100%|█| 19/19 [00:06<00:00,  3.10it/s, v_num=0, val_loss_step=2.190, val_acc_step=0.500, val_loss_epoch=3.480"
     ]
    },
    {
     "name": "stderr",
     "output_type": "stream",
     "text": [
      "Epoch 99, global step 1900: 'val_loss' was not in top 1\n",
      "`Trainer.fit` stopped: `max_epochs=100` reached.\n"
     ]
    },
    {
     "name": "stdout",
     "output_type": "stream",
     "text": [
      "Epoch 99: 100%|█| 19/19 [00:07<00:00,  2.41it/s, v_num=0, val_loss_step=2.190, val_acc_step=0.500, val_loss_epoch=3.480\n"
     ]
    },
    {
     "name": "stderr",
     "output_type": "stream",
     "text": [
      "D:\\Software\\Python\\lib\\site-packages\\pytorch_lightning\\trainer\\connectors\\checkpoint_connector.py:149: UserWarning: `.test(ckpt_path=None)` was called without a model. The best model of the previous `fit` call will be used. You can pass `.test(ckpt_path='best')` to use the best model or `.test(ckpt_path='last')` to use the last model. If you pass a value, this warning will be silenced.\n",
      "  rank_zero_warn(\n",
      "Restoring states from the checkpoint path at tb_logs\\Resnet50_batch_size_32_epoch_100\\version_0\\checkpoints\\best-model-epoch=05-val_loss=2.10.ckpt\n",
      "LOCAL_RANK: 0 - CUDA_VISIBLE_DEVICES: [0]\n",
      "Loaded model weights from the checkpoint at tb_logs\\Resnet50_batch_size_32_epoch_100\\version_0\\checkpoints\\best-model-epoch=05-val_loss=2.10.ckpt\n",
      "D:\\Software\\Python\\lib\\site-packages\\pytorch_lightning\\trainer\\connectors\\data_connector.py:442: PossibleUserWarning: The dataloader, test_dataloader, does not have many workers which may be a bottleneck. Consider increasing the value of the `num_workers` argument` (try 16 which is the number of cpus on this machine) in the `DataLoader` init to improve performance.\n",
      "  rank_zero_warn(\n"
     ]
    },
    {
     "name": "stdout",
     "output_type": "stream",
     "text": [
      "Testing DataLoader 0: 100%|██████████████████████████████████████████████████████████████| 7/7 [00:01<00:00,  5.75it/s]\n"
     ]
    },
    {
     "data": {
      "text/html": [
       "<pre style=\"white-space:pre;overflow-x:auto;line-height:normal;font-family:Menlo,'DejaVu Sans Mono',consolas,'Courier New',monospace\">┏━━━━━━━━━━━━━━━━━━━━━━━━━━━┳━━━━━━━━━━━━━━━━━━━━━━━━━━━┓\n",
       "┃<span style=\"font-weight: bold\">        Test metric        </span>┃<span style=\"font-weight: bold\">       DataLoader 0        </span>┃\n",
       "┡━━━━━━━━━━━━━━━━━━━━━━━━━━━╇━━━━━━━━━━━━━━━━━━━━━━━━━━━┩\n",
       "│<span style=\"color: #008080; text-decoration-color: #008080\">      test_acc_epoch       </span>│<span style=\"color: #800080; text-decoration-color: #800080\">    0.32499998807907104    </span>│\n",
       "│<span style=\"color: #008080; text-decoration-color: #008080\">      test_loss_epoch      </span>│<span style=\"color: #800080; text-decoration-color: #800080\">     2.279722213745117     </span>│\n",
       "└───────────────────────────┴───────────────────────────┘\n",
       "</pre>\n"
      ],
      "text/plain": [
       "┏━━━━━━━━━━━━━━━━━━━━━━━━━━━┳━━━━━━━━━━━━━━━━━━━━━━━━━━━┓\n",
       "┃\u001b[1m \u001b[0m\u001b[1m       Test metric       \u001b[0m\u001b[1m \u001b[0m┃\u001b[1m \u001b[0m\u001b[1m      DataLoader 0       \u001b[0m\u001b[1m \u001b[0m┃\n",
       "┡━━━━━━━━━━━━━━━━━━━━━━━━━━━╇━━━━━━━━━━━━━━━━━━━━━━━━━━━┩\n",
       "│\u001b[36m \u001b[0m\u001b[36m     test_acc_epoch      \u001b[0m\u001b[36m \u001b[0m│\u001b[35m \u001b[0m\u001b[35m   0.32499998807907104   \u001b[0m\u001b[35m \u001b[0m│\n",
       "│\u001b[36m \u001b[0m\u001b[36m     test_loss_epoch     \u001b[0m\u001b[36m \u001b[0m│\u001b[35m \u001b[0m\u001b[35m    2.279722213745117    \u001b[0m\u001b[35m \u001b[0m│\n",
       "└───────────────────────────┴───────────────────────────┘\n"
      ]
     },
     "metadata": {},
     "output_type": "display_data"
    }
   ],
   "source": [
    "\n",
    "if __name__ == \"__main__\":\n",
    "    raw_datasets = load_dataset(\"Niche-Squad/mock-dots\",\"regression-one-class\", download_mode=\"force_redownload\") # 使用你的数据集名称加载数据 \n",
    "\n",
    "    transform = transforms.Compose([\n",
    "        transforms.Resize(256),\n",
    "        transforms.CenterCrop(224),\n",
    "        transforms.ToTensor(),\n",
    "        transforms.Normalize(mean=[0.485, 0.456, 0.406], std=[0.229, 0.224, 0.225])\n",
    "    ])\n",
    "    checkpoint_callback = ModelCheckpoint(\n",
    "    monitor='val_loss',  # 替换为您正在监视的适当指标\n",
    "    mode='min',          # 如果你的指标是准确率或类似的，可能需要更改为'max'\n",
    "    filename='best-model-{epoch:02d}-{val_loss:.2f}',\n",
    "    save_top_k=1,\n",
    "    verbose=True,\n",
    "    save_last=True,      # 如果你还想保存最后一个checkpoint\n",
    ")\n",
    "\n",
    "\n",
    "    train_dataset = CustomDataset(raw_datasets['train'], transform=transform)\n",
    "    train_loader = DataLoader(train_dataset, batch_size=32, shuffle=True)\n",
    "\n",
    "    val_dataset = CustomDataset(raw_datasets['validation'], transform=transform)\n",
    "    val_loader = DataLoader(val_dataset, batch_size=32, shuffle=False)\n",
    "\n",
    "    test_dataset = CustomDataset(raw_datasets['test'], transform=transform)\n",
    "    test_loader = DataLoader(test_dataset, batch_size=32, shuffle=False)\n",
    "\n",
    "    \n",
    "    model = ImageClassifier(num_classes=15)\n",
    "    logger = TensorBoardLogger(\"tb_logs\", name=\"Resnet50_batch_size_32_epoch_100\")\n",
    "    trainer = pl.Trainer(callbacks=[checkpoint_callback],max_epochs=100,logger = logger)\n",
    "    trainer.fit(model, train_loader,val_loader)\n",
    "    trainer.test(dataloaders=test_loader)  \n"
   ]
  },
  {
   "cell_type": "code",
   "execution_count": null,
   "metadata": {},
   "outputs": [],
   "source": []
  }
 ],
 "metadata": {
  "kernelspec": {
   "display_name": "Python 3 (ipykernel)",
   "language": "python",
   "name": "python3"
  },
  "orig_nbformat": 4
 },
 "nbformat": 4,
 "nbformat_minor": 2
}
