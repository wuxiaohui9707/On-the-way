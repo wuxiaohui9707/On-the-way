{
 "cells": [
  {
   "cell_type": "code",
   "execution_count": 1,
   "metadata": {},
   "outputs": [
    {
     "name": "stderr",
     "output_type": "stream",
     "text": [
      "D:\\Software\\Python\\lib\\site-packages\\tqdm\\auto.py:21: TqdmWarning: IProgress not found. Please update jupyter and ipywidgets. See https://ipywidgets.readthedocs.io/en/stable/user_install.html\n",
      "  from .autonotebook import tqdm as notebook_tqdm\n"
     ]
    }
   ],
   "source": [
    "import os\n",
    "import torch\n",
    "import pytorch_lightning as pl\n",
    "import pandas as pd\n",
    "import torch.nn as nn\n",
    "from torchvision import transforms\n",
    "from torch.utils.data import DataLoader,Dataset\n",
    "from PIL import Image\n",
    "from datasets import load_dataset\n",
    "import torch.nn.functional as F\n",
    "from pytorch_lightning.loggers import TensorBoardLogger\n",
    "from pytorch_lightning.callbacks import ModelCheckpoint"
   ]
  },
  {
   "cell_type": "code",
   "execution_count": 14,
   "metadata": {},
   "outputs": [],
   "source": [
    "class CustomDataset(Dataset):\n",
    "    def __init__(self, data, transform=None):\n",
    "        self.data = data\n",
    "        self.transform = transform\n",
    "\n",
    "    def __len__(self):\n",
    "        return len(self.data)\n",
    "\n",
    "    def __getitem__(self,idx):\n",
    "        item = self.data[idx]\n",
    "        image = item['image']\n",
    "        label = float(item['label'])#标签是连续值\n",
    "\n",
    "        if self.transform:\n",
    "            image = self.transform(image)\n",
    "        \n",
    "        return image, torch.tensor(label, dtype=torch.float32)"
   ]
  },
  {
   "cell_type": "code",
   "execution_count": 15,
   "metadata": {},
   "outputs": [],
   "source": [
    "\n",
    "class ImageRegression(pl.LightningModule):\n",
    "    def __init__(self):\n",
    "        super(ImageRegression,self).__init__()\n",
    "        self.model = torch.hub.load('pytorch/vision:v0.10.0','resnet50',pretrained=True)\n",
    "        num_ftrs = self.model.fc.in_features\n",
    "        self.model.fc = nn.Linear(num_ftrs,1)\n",
    "\n",
    "    def forward(self, x):\n",
    "        x = x.float()  # 转换数据类型为float32\n",
    "        return self.model(x).squeeze(-1)\n",
    "\n",
    "    def training_step(self, batch, batch_idx):\n",
    "        images, labels = batch\n",
    "        outputs = self(images)\n",
    "        loss = F.mse_loss(outputs, labels)\n",
    "        self.log('train_loss', loss)\n",
    "        return loss\n",
    "\n",
    "    def validation_step(self, batch, batch_idx):\n",
    "        images, labels = batch\n",
    "        outputs = self(images)\n",
    "        loss = F.mse_loss(outputs, labels)\n",
    "        self.log('val_loss', loss, on_step=True, on_epoch=True, prog_bar=True)\n",
    "        return {\"val_loss\":loss}\n",
    "\n",
    "#    def on_validation_epoch_end(self):\n",
    "#        avg_loss = torch.stack([x['val_loss'] for x in outputs]).mean()\n",
    "#        avg_acc = torch.stack([x['val_acc']for x in outputs]).mean()\n",
    "        \n",
    "    def test_step(self,batch,batch_idx):\n",
    "        images, labels = batch\n",
    "        outputs = self(images)\n",
    "        loss = F.mse_loss(outputs, labels)\n",
    "        self.log('test_loss', loss, on_step=True, on_epoch=True, prog_bar=True)\n",
    "        return {\"test_loss\":loss}\n",
    "\n",
    "    def configure_optimizers(self):\n",
    "        optimizer = torch.optim.Adam(self.parameters(), lr=0.001)\n",
    "        return optimizer\n"
   ]
  },
  {
   "cell_type": "code",
   "execution_count": 16,
   "metadata": {},
   "outputs": [
    {
     "name": "stderr",
     "output_type": "stream",
     "text": [
      "Downloading builder script: 100%|█████████████████████████████████████████████████| 9.99k/9.99k [00:00<00:00, 5.64MB/s]\n",
      "Downloading readme: 100%|███████████████████████████████████████████████████████████████████| 30.0/30.0 [00:00<?, ?B/s]\n",
      "Downloading data: 100%|███████████████████████████████████████████████████████████| 2.60M/2.60M [00:00<00:00, 11.7MB/s]\n",
      "Downloading data: 100%|███████████████████████████████████████████████████████████████████| 11.3k/11.3k [00:00<?, ?B/s]\n",
      "Downloading data: 100%|███████████████████████████████████████████████████████████████████| 3.77k/3.77k [00:00<?, ?B/s]\n",
      "Downloading data: 100%|███████████████████████████████████████████████████████████████████| 3.82k/3.82k [00:00<?, ?B/s]\n",
      "Generating train split: 100%|███████████████████████████████████████████████| 600/600 [00:00<00:00, 5429.77 examples/s]\n",
      "Generating validation split: 100%|██████████████████████████████████████████| 200/200 [00:00<00:00, 4951.19 examples/s]\n",
      "Generating test split: 100%|████████████████████████████████████████████████| 200/200 [00:00<00:00, 7412.53 examples/s]\n",
      "Using cache found in C:\\Users\\吴晓辉/.cache\\torch\\hub\\pytorch_vision_v0.10.0\n",
      "D:\\Software\\Python\\lib\\site-packages\\torchvision\\models\\_utils.py:208: UserWarning: The parameter 'pretrained' is deprecated since 0.13 and may be removed in the future, please use 'weights' instead.\n",
      "  warnings.warn(\n",
      "D:\\Software\\Python\\lib\\site-packages\\torchvision\\models\\_utils.py:223: UserWarning: Arguments other than a weight enum or `None` for 'weights' are deprecated since 0.13 and may be removed in the future. The current behavior is equivalent to passing `weights=ResNet50_Weights.IMAGENET1K_V1`. You can also use `weights=ResNet50_Weights.DEFAULT` to get the most up-to-date weights.\n",
      "  warnings.warn(msg)\n",
      "GPU available: False, used: False\n",
      "TPU available: False, using: 0 TPU cores\n",
      "IPU available: False, using: 0 IPUs\n",
      "HPU available: False, using: 0 HPUs\n",
      "\n",
      "  | Name  | Type   | Params\n",
      "---------------------------------\n",
      "0 | model | ResNet | 23.5 M\n",
      "---------------------------------\n",
      "23.5 M    Trainable params\n",
      "0         Non-trainable params\n",
      "23.5 M    Total params\n",
      "94.040    Total estimated model params size (MB)\n"
     ]
    },
    {
     "name": "stdout",
     "output_type": "stream",
     "text": [
      "Sanity Checking DataLoader 0:   0%|                                                              | 0/2 [00:00<?, ?it/s]"
     ]
    },
    {
     "name": "stderr",
     "output_type": "stream",
     "text": [
      "D:\\Software\\Python\\lib\\site-packages\\pytorch_lightning\\trainer\\connectors\\data_connector.py:442: PossibleUserWarning: The dataloader, val_dataloader, does not have many workers which may be a bottleneck. Consider increasing the value of the `num_workers` argument` (try 16 which is the number of cpus on this machine) in the `DataLoader` init to improve performance.\n",
      "  rank_zero_warn(\n"
     ]
    },
    {
     "name": "stdout",
     "output_type": "stream",
     "text": [
      "                                                                                                                       "
     ]
    },
    {
     "name": "stderr",
     "output_type": "stream",
     "text": [
      "D:\\Software\\Python\\lib\\site-packages\\pytorch_lightning\\trainer\\connectors\\data_connector.py:442: PossibleUserWarning: The dataloader, train_dataloader, does not have many workers which may be a bottleneck. Consider increasing the value of the `num_workers` argument` (try 16 which is the number of cpus on this machine) in the `DataLoader` init to improve performance.\n",
      "  rank_zero_warn(\n",
      "D:\\Software\\Python\\lib\\site-packages\\pytorch_lightning\\loops\\fit_loop.py:281: PossibleUserWarning: The number of training batches (19) is smaller than the logging interval Trainer(log_every_n_steps=50). Set a lower value for log_every_n_steps if you want to see logs for the training epoch.\n",
      "  rank_zero_warn(\n"
     ]
    },
    {
     "name": "stdout",
     "output_type": "stream",
     "text": [
      "Epoch 0:   0%|                                                                                  | 0/19 [03:41<?, ?it/s]\n",
      "Epoch 61:  74%|██████████████▋     | 14/19 [01:54<00:41,  8.21s/it, v_num=2, val_loss_step=0.754, val_loss_epoch=0.441]"
     ]
    },
    {
     "name": "stderr",
     "output_type": "stream",
     "text": [
      "D:\\Software\\Python\\lib\\site-packages\\pytorch_lightning\\trainer\\call.py:53: UserWarning: Detected KeyboardInterrupt, attempting graceful shutdown...\n",
      "  rank_zero_warn(\"Detected KeyboardInterrupt, attempting graceful shutdown...\")\n",
      "D:\\Software\\Python\\lib\\site-packages\\pytorch_lightning\\trainer\\connectors\\checkpoint_connector.py:149: UserWarning: `.test(ckpt_path=None)` was called without a model. The best model of the previous `fit` call will be used. You can pass `.test(ckpt_path='best')` to use the best model or `.test(ckpt_path='last')` to use the last model. If you pass a value, this warning will be silenced.\n",
      "  rank_zero_warn(\n",
      "Restoring states from the checkpoint path at tb_logs\\Resnet50_batch_size_32_epoch_100\\version_2\\checkpoints\\epoch=60-step=1159.ckpt\n",
      "Loaded model weights from the checkpoint at tb_logs\\Resnet50_batch_size_32_epoch_100\\version_2\\checkpoints\\epoch=60-step=1159.ckpt\n",
      "D:\\Software\\Python\\lib\\site-packages\\pytorch_lightning\\trainer\\connectors\\data_connector.py:442: PossibleUserWarning: The dataloader, test_dataloader, does not have many workers which may be a bottleneck. Consider increasing the value of the `num_workers` argument` (try 16 which is the number of cpus on this machine) in the `DataLoader` init to improve performance.\n",
      "  rank_zero_warn(\n"
     ]
    },
    {
     "name": "stdout",
     "output_type": "stream",
     "text": [
      "Testing DataLoader 0:  71%|████████████████████████████████████████████▎                 | 5/7 [00:10<00:04,  2.17s/it]"
     ]
    }
   ],
   "source": [
    "if __name__ == \"__main__\":\n",
    "    raw_datasets = load_dataset(\"Niche-Squad/mock-dots\",\"regression-one-class\", download_mode=\"force_redownload\") # 使用你的数据集名称加载数据 \n",
    "\n",
    "    transform = transforms.Compose([\n",
    "        transforms.Resize(256),\n",
    "        transforms.CenterCrop(224),\n",
    "        transforms.ToTensor(),\n",
    "        transforms.Normalize(mean=[0.485, 0.456, 0.406], std=[0.229, 0.224, 0.225])\n",
    "    ])\n",
    "    checkpoint_callback = ModelCheckpoint(\n",
    "    monitor='val_loss',  # 替换为您正在监视的适当指标\n",
    "    mode='min',          # 如果你的指标是准确率或类似的，可能需要更改为'max'\n",
    "    filename='best-model-{epoch:02d}-{val_loss:.2f}',\n",
    "    save_top_k=1,\n",
    "    verbose=True,\n",
    "    save_last=True,      # 如果你还想保存最后一个checkpoint\n",
    ")\n",
    "\n",
    "\n",
    "    train_dataset = CustomDataset(raw_datasets['train'], transform=transform)\n",
    "    train_loader = DataLoader(train_dataset, batch_size=32, shuffle=True)\n",
    "\n",
    "    val_dataset = CustomDataset(raw_datasets['validation'], transform=transform)\n",
    "    val_loader = DataLoader(val_dataset, batch_size=32, shuffle=False)\n",
    "\n",
    "    test_dataset = CustomDataset(raw_datasets['test'], transform=transform)\n",
    "    test_loader = DataLoader(test_dataset, batch_size=32, shuffle=False)\n",
    "\n",
    "    \n",
    "    model = ImageRegression()\n",
    "    logger = TensorBoardLogger(\"tb_logs\", name=\"Resnet50_batch_size_32_epoch_100\")\n",
    "    trainer = pl.Trainer(max_epochs=100,logger = logger)#callbacks=[checkpoint_callback]\n",
    "    trainer.fit(model, train_loader,val_loader)\n",
    "    trainer.test(dataloaders=test_loader)  \n"
   ]
  }
 ],
 "metadata": {
  "kernelspec": {
   "display_name": "Python 3 (ipykernel)",
   "language": "python",
   "name": "python3"
  },
  "language_info": {
   "codemirror_mode": {
    "name": "ipython",
    "version": 3
   },
   "file_extension": ".py",
   "mimetype": "text/x-python",
   "name": "python",
   "nbconvert_exporter": "python",
   "pygments_lexer": "ipython3",
   "version": "3.10.8"
  },
  "orig_nbformat": 4
 },
 "nbformat": 4,
 "nbformat_minor": 2
}
