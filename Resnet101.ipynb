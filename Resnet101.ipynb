{
 "cells": [
  {
   "cell_type": "code",
   "execution_count": 6,
   "metadata": {},
   "outputs": [
    {
     "ename": "ImportError",
     "evalue": "cannot import name 'ImageRegression' from 'model' (e:\\Files\\Github\\Resnet-for-Mock-dots\\model.py)",
     "output_type": "error",
     "traceback": [
      "\u001b[1;31m---------------------------------------------------------------------------\u001b[0m",
      "\u001b[1;31mImportError\u001b[0m                               Traceback (most recent call last)",
      "\u001b[1;32me:\\Files\\Github\\Resnet-for-Mock-dots\\Resnet101.ipynb 单元格 1\u001b[0m line \u001b[0;36m2\n\u001b[0;32m      <a href='vscode-notebook-cell:/e%3A/Files/Github/Resnet-for-Mock-dots/Resnet101.ipynb#W6sZmlsZQ%3D%3D?line=0'>1</a>\u001b[0m \u001b[39mimport\u001b[39;00m \u001b[39mpytorch_lightning\u001b[39;00m \u001b[39mas\u001b[39;00m \u001b[39mpl\u001b[39;00m\n\u001b[1;32m----> <a href='vscode-notebook-cell:/e%3A/Files/Github/Resnet-for-Mock-dots/Resnet101.ipynb#W6sZmlsZQ%3D%3D?line=1'>2</a>\u001b[0m \u001b[39mfrom\u001b[39;00m \u001b[39mmodel\u001b[39;00m \u001b[39mimport\u001b[39;00m ImageRegression\n\u001b[0;32m      <a href='vscode-notebook-cell:/e%3A/Files/Github/Resnet-for-Mock-dots/Resnet101.ipynb#W6sZmlsZQ%3D%3D?line=2'>3</a>\u001b[0m \u001b[39mfrom\u001b[39;00m \u001b[39mdata_utils\u001b[39;00m \u001b[39mimport\u001b[39;00m get_transform, get_loaders\n\u001b[0;32m      <a href='vscode-notebook-cell:/e%3A/Files/Github/Resnet-for-Mock-dots/Resnet101.ipynb#W6sZmlsZQ%3D%3D?line=3'>4</a>\u001b[0m \u001b[39mfrom\u001b[39;00m \u001b[39mtrain_utils\u001b[39;00m \u001b[39mimport\u001b[39;00m get_checkpoint_callback, get_logger\n",
      "\u001b[1;31mImportError\u001b[0m: cannot import name 'ImageRegression' from 'model' (e:\\Files\\Github\\Resnet-for-Mock-dots\\model.py)"
     ]
    }
   ],
   "source": [
    "import pytorch_lightning as pl\n",
    "from model import ImageRegression_Resnet101\n",
    "from data_utils import get_transform, get_loaders\n",
    "from train_utils import get_checkpoint_callback, get_logger\n",
    "from datasets import load_dataset\n",
    "from plot_utils import plot_truth_vs_prediction\n",
    "\n",
    "transform = get_transform()\n",
    "raw_datasets = load_dataset(\"Niche-Squad/mock-dots\",\"regression-one-class\", download_mode=\"force_redownload\")\n",
    "train_loader, val_loader, test_loader = get_loaders(raw_datasets,transform,32)\n",
    "\n",
    "model = ImageRegression_Resnet101()\n",
    "checkpoint_callback = get_checkpoint_callback()\n",
    "logger = get_logger()\n",
    "\n",
    "trainer = pl.Trainer(callbacks=[checkpoint_callback], max_epochs=100, logger=logger)\n",
    "trainer.fit(model, train_loader, val_loader)\n",
    "\n",
    "save_path_validation = 'D:/Files/Plot/Resnet101_validation.png'\n",
    "plot_truth_vs_prediction(model, val_loader,save_path_validation)\n",
    "\n",
    "best_model_path = trainer.checkpoint_callback.best_model_path\n",
    "trainer.test(dataloaders=test_loader,ckpt_path=best_model_path) \n",
    "save_path_test = 'D:/Files/Plot/Resnet101_test.png'\n",
    "plot_truth_vs_prediction(model, test_loader,save_path_test)"
   ]
  }
 ],
 "metadata": {
  "kernelspec": {
   "display_name": "Python 3 (ipykernel)",
   "language": "python",
   "name": "python3"
  },
  "language_info": {
   "codemirror_mode": {
    "name": "ipython",
    "version": 3
   },
   "file_extension": ".py",
   "mimetype": "text/x-python",
   "name": "python",
   "nbconvert_exporter": "python",
   "pygments_lexer": "ipython3",
   "version": "3.11.5"
  },
  "orig_nbformat": 4
 },
 "nbformat": 4,
 "nbformat_minor": 2
}
